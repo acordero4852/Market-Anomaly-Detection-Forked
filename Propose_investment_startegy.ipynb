{
  "cells": [
    {
      "cell_type": "code",
      "execution_count": null,
      "metadata": {
        "colab": {
          "base_uri": "https://localhost:8080/"
        },
        "id": "Oycgq7AziMui",
        "outputId": "bb941c7c-d21b-4097-b840-23bda05a5110"
      },
      "outputs": [
        {
          "name": "stdout",
          "output_type": "stream",
          "text": [
            "Requirement already satisfied: numpy in /usr/local/lib/python3.10/dist-packages (1.26.4)\n",
            "Requirement already satisfied: pandas in /usr/local/lib/python3.10/dist-packages (2.2.2)\n",
            "Requirement already satisfied: matplotlib in /usr/local/lib/python3.10/dist-packages (3.10.0)\n",
            "Requirement already satisfied: tensorflow in /usr/local/lib/python3.10/dist-packages (2.17.1)\n",
            "Requirement already satisfied: python-dateutil>=2.8.2 in /usr/local/lib/python3.10/dist-packages (from pandas) (2.8.2)\n",
            "Requirement already satisfied: pytz>=2020.1 in /usr/local/lib/python3.10/dist-packages (from pandas) (2024.2)\n",
            "Requirement already satisfied: tzdata>=2022.7 in /usr/local/lib/python3.10/dist-packages (from pandas) (2024.2)\n",
            "Requirement already satisfied: contourpy>=1.0.1 in /usr/local/lib/python3.10/dist-packages (from matplotlib) (1.3.1)\n",
            "Requirement already satisfied: cycler>=0.10 in /usr/local/lib/python3.10/dist-packages (from matplotlib) (0.12.1)\n",
            "Requirement already satisfied: fonttools>=4.22.0 in /usr/local/lib/python3.10/dist-packages (from matplotlib) (4.55.3)\n",
            "Requirement already satisfied: kiwisolver>=1.3.1 in /usr/local/lib/python3.10/dist-packages (from matplotlib) (1.4.8)\n",
            "Requirement already satisfied: packaging>=20.0 in /usr/local/lib/python3.10/dist-packages (from matplotlib) (24.2)\n",
            "Requirement already satisfied: pillow>=8 in /usr/local/lib/python3.10/dist-packages (from matplotlib) (11.1.0)\n",
            "Requirement already satisfied: pyparsing>=2.3.1 in /usr/local/lib/python3.10/dist-packages (from matplotlib) (3.2.1)\n",
            "Requirement already satisfied: absl-py>=1.0.0 in /usr/local/lib/python3.10/dist-packages (from tensorflow) (1.4.0)\n",
            "Requirement already satisfied: astunparse>=1.6.0 in /usr/local/lib/python3.10/dist-packages (from tensorflow) (1.6.3)\n",
            "Requirement already satisfied: flatbuffers>=24.3.25 in /usr/local/lib/python3.10/dist-packages (from tensorflow) (24.12.23)\n",
            "Requirement already satisfied: gast!=0.5.0,!=0.5.1,!=0.5.2,>=0.2.1 in /usr/local/lib/python3.10/dist-packages (from tensorflow) (0.6.0)\n",
            "Requirement already satisfied: google-pasta>=0.1.1 in /usr/local/lib/python3.10/dist-packages (from tensorflow) (0.2.0)\n",
            "Requirement already satisfied: h5py>=3.10.0 in /usr/local/lib/python3.10/dist-packages (from tensorflow) (3.12.1)\n",
            "Requirement already satisfied: libclang>=13.0.0 in /usr/local/lib/python3.10/dist-packages (from tensorflow) (18.1.1)\n",
            "Requirement already satisfied: ml-dtypes<0.5.0,>=0.3.1 in /usr/local/lib/python3.10/dist-packages (from tensorflow) (0.4.1)\n",
            "Requirement already satisfied: opt-einsum>=2.3.2 in /usr/local/lib/python3.10/dist-packages (from tensorflow) (3.4.0)\n",
            "Requirement already satisfied: protobuf!=4.21.0,!=4.21.1,!=4.21.2,!=4.21.3,!=4.21.4,!=4.21.5,<5.0.0dev,>=3.20.3 in /usr/local/lib/python3.10/dist-packages (from tensorflow) (4.25.5)\n",
            "Requirement already satisfied: requests<3,>=2.21.0 in /usr/local/lib/python3.10/dist-packages (from tensorflow) (2.32.3)\n",
            "Requirement already satisfied: setuptools in /usr/local/lib/python3.10/dist-packages (from tensorflow) (75.1.0)\n",
            "Requirement already satisfied: six>=1.12.0 in /usr/local/lib/python3.10/dist-packages (from tensorflow) (1.17.0)\n",
            "Requirement already satisfied: termcolor>=1.1.0 in /usr/local/lib/python3.10/dist-packages (from tensorflow) (2.5.0)\n",
            "Requirement already satisfied: typing-extensions>=3.6.6 in /usr/local/lib/python3.10/dist-packages (from tensorflow) (4.12.2)\n",
            "Requirement already satisfied: wrapt>=1.11.0 in /usr/local/lib/python3.10/dist-packages (from tensorflow) (1.17.0)\n",
            "Requirement already satisfied: grpcio<2.0,>=1.24.3 in /usr/local/lib/python3.10/dist-packages (from tensorflow) (1.69.0)\n",
            "Requirement already satisfied: tensorboard<2.18,>=2.17 in /usr/local/lib/python3.10/dist-packages (from tensorflow) (2.17.1)\n",
            "Requirement already satisfied: keras>=3.2.0 in /usr/local/lib/python3.10/dist-packages (from tensorflow) (3.5.0)\n",
            "Requirement already satisfied: tensorflow-io-gcs-filesystem>=0.23.1 in /usr/local/lib/python3.10/dist-packages (from tensorflow) (0.37.1)\n",
            "Requirement already satisfied: wheel<1.0,>=0.23.0 in /usr/local/lib/python3.10/dist-packages (from astunparse>=1.6.0->tensorflow) (0.45.1)\n",
            "Requirement already satisfied: rich in /usr/local/lib/python3.10/dist-packages (from keras>=3.2.0->tensorflow) (13.9.4)\n",
            "Requirement already satisfied: namex in /usr/local/lib/python3.10/dist-packages (from keras>=3.2.0->tensorflow) (0.0.8)\n",
            "Requirement already satisfied: optree in /usr/local/lib/python3.10/dist-packages (from keras>=3.2.0->tensorflow) (0.13.1)\n",
            "Requirement already satisfied: charset-normalizer<4,>=2 in /usr/local/lib/python3.10/dist-packages (from requests<3,>=2.21.0->tensorflow) (3.4.1)\n",
            "Requirement already satisfied: idna<4,>=2.5 in /usr/local/lib/python3.10/dist-packages (from requests<3,>=2.21.0->tensorflow) (3.10)\n",
            "Requirement already satisfied: urllib3<3,>=1.21.1 in /usr/local/lib/python3.10/dist-packages (from requests<3,>=2.21.0->tensorflow) (2.3.0)\n",
            "Requirement already satisfied: certifi>=2017.4.17 in /usr/local/lib/python3.10/dist-packages (from requests<3,>=2.21.0->tensorflow) (2024.12.14)\n",
            "Requirement already satisfied: markdown>=2.6.8 in /usr/local/lib/python3.10/dist-packages (from tensorboard<2.18,>=2.17->tensorflow) (3.7)\n",
            "Requirement already satisfied: tensorboard-data-server<0.8.0,>=0.7.0 in /usr/local/lib/python3.10/dist-packages (from tensorboard<2.18,>=2.17->tensorflow) (0.7.2)\n",
            "Requirement already satisfied: werkzeug>=1.0.1 in /usr/local/lib/python3.10/dist-packages (from tensorboard<2.18,>=2.17->tensorflow) (3.1.3)\n",
            "Requirement already satisfied: MarkupSafe>=2.1.1 in /usr/local/lib/python3.10/dist-packages (from werkzeug>=1.0.1->tensorboard<2.18,>=2.17->tensorflow) (3.0.2)\n",
            "Requirement already satisfied: markdown-it-py>=2.2.0 in /usr/local/lib/python3.10/dist-packages (from rich->keras>=3.2.0->tensorflow) (3.0.0)\n",
            "Requirement already satisfied: pygments<3.0.0,>=2.13.0 in /usr/local/lib/python3.10/dist-packages (from rich->keras>=3.2.0->tensorflow) (2.18.0)\n",
            "Requirement already satisfied: mdurl~=0.1 in /usr/local/lib/python3.10/dist-packages (from markdown-it-py>=2.2.0->rich->keras>=3.2.0->tensorflow) (0.1.2)\n"
          ]
        }
      ],
      "source": [
        "!pip install numpy pandas matplotlib"
      ]
    },
    {
      "cell_type": "code",
      "execution_count": 31,
      "metadata": {
        "colab": {
          "base_uri": "https://localhost:8080/",
          "height": 939
        },
        "id": "764ZNMBFfJkT",
        "outputId": "c914cdbd-6117-47e3-d071-b149ccec89c6"
      },
      "outputs": [
        {
          "name": "stderr",
          "output_type": "stream",
          "text": [
            "WARNING:absl:Compiled the loaded model, but the compiled metrics have yet to be built. `model.compile_metrics` will be empty until you train or evaluate the model.\n"
          ]
        },
        {
          "name": "stdout",
          "output_type": "stream",
          "text": [
            "\u001b[1m1/1\u001b[0m \u001b[32m━━━━━━━━━━━━━━━━━━━━\u001b[0m\u001b[37m\u001b[0m \u001b[1m0s\u001b[0m 73ms/step\n",
            "Investment strategy results saved to 'investment_strategy_results.csv'.\n"
          ]
        },
        {
          "data": {
            "image/png": "[encoded data removed]",
            "text/plain": [
              "<Figure size 1200x600 with 1 Axes>"
            ]
          },
          "metadata": {},
          "output_type": "display_data"
        },
        {
          "name": "stdout",
          "output_type": "stream",
          "text": [
            "\n",
            "--- Dynamic Investment Strategy Report ---\n",
            "1. Final Investment Value: $9973.38\n",
            "   - Reflects the dynamic adjustments based on market conditions and anomalies.\n",
            "\n",
            "2. Best Performance Period: 8/2/2024 with value: $10024.00\n",
            "   - Represents peak investment growth due to favorable market conditions.\n",
            "\n",
            "3. Worst Performance Period: 8/4/2024 with value: $9973.38\n",
            "   - Indicates periods of market volatility or anomalies.\n",
            "\n",
            "4. Total Number of Anomalies Detected: 2\n",
            "   - Indicates market instability, where the strategy shifted to safer assets.\n",
            "\n",
            "5. Strategy Effectiveness:\n",
            "   - Strategy successfully mitigated risks during 2 anomalies.\n",
            "\n",
            "6. Next Steps:\n",
            "   - Continue monitoring market conditions.\n",
            "   - Adjust allocations dynamically based on upcoming anomalies or stability.\n"
          ]
        }
      ],
      "source": [
        "# Import necessary libraries\n",
        "import numpy as np\n",
        "import pandas as pd\n",
        "from keras.models import load_model\n",
        "from sklearn.preprocessing import StandardScaler\n",
        "import matplotlib.pyplot as plt\n",
        "\n",
        "# Step 1: Load the saved anomaly detection model\n",
        "model = load_model('anomaly_detection_model.h5')\n",
        "\n",
        "# Step 2: Load data from the CSV\n",
        "financial_data = pd.read_csv('current_finance_data.csv')\n",
        "\n",
        "# Step 3: Extract the features and preprocess them\n",
        "features = ['XAU', 'BGNL', 'BDIY', 'CRY', 'DXY', 'VIX', 'USGG30YR']\n",
        "sample_data = financial_data[features].values\n",
        "\n",
        "# Step 4: Standardize the data (use the same scaler as the training phase if available)\n",
        "scaler = StandardScaler()\n",
        "sample_data_scaled = scaler.fit_transform(sample_data)  # Replace with a pre-fitted scaler if saved\n",
        "\n",
        "# Step 5: Make predictions using the model\n",
        "predictions = model.predict(sample_data_scaled)\n",
        "predictions = predictions.flatten()  # Flatten to a 1D array\n",
        "financial_data['Anomaly'] = predictions > 0.5  # Anomaly = 1 if prediction > threshold, else 0\n",
        "\n",
        "# Step 6: Define an enhanced data-driven investment strategy\n",
        "initial_investment = 10000  # Starting investment value\n",
        "financial_data['Safe_Asset_Allocation'] = 0.7 * initial_investment  # Start with 70% in safe assets\n",
        "financial_data['Risky_Asset_Allocation'] = 0.3 * initial_investment  # Start with 30% in risky assets\n",
        "\n",
        "# Enhanced strategy logic\n",
        "for i in range(1, len(financial_data)):\n",
        "    if financial_data.loc[i, 'Anomaly']:  # Anomaly detected\n",
        "        # Minimize losses by shifting to safer assets\n",
        "        financial_data.loc[i, 'Safe_Asset_Allocation'] = financial_data.loc[i - 1, 'Safe_Asset_Allocation'] * 1.005\n",
        "        financial_data.loc[i, 'Risky_Asset_Allocation'] = financial_data.loc[i - 1, 'Risky_Asset_Allocation'] * 0.98\n",
        "    else:  # No anomaly detected\n",
        "        # Maximize returns by increasing allocation to risky assets\n",
        "        financial_data.loc[i, 'Safe_Asset_Allocation'] = financial_data.loc[i - 1, 'Safe_Asset_Allocation'] * 0.997\n",
        "        financial_data.loc[i, 'Risky_Asset_Allocation'] = financial_data.loc[i - 1, 'Risky_Asset_Allocation'] * 1.015\n",
        "\n",
        "# Calculate total investment plan value\n",
        "financial_data['Total_Investment_Value'] = (\n",
        "    financial_data['Safe_Asset_Allocation'] + financial_data['Risky_Asset_Allocation']\n",
        ")\n",
        "\n",
        "# Step 7: Save the results with predictions and investment plan values to a new CSV\n",
        "financial_data.to_csv('investment_strategy_results.csv', index=False)\n",
        "print(\"Investment strategy results saved to 'investment_strategy_results.csv'.\")\n",
        "\n",
        "# Step 8: Visualize the results\n",
        "plt.figure(figsize=(12, 6))\n",
        "plt.plot(financial_data['Date'], financial_data['Total_Investment_Value'], label='Investment Value', color='blue')\n",
        "plt.fill_between(\n",
        "    financial_data['Date'],\n",
        "    financial_data['Total_Investment_Value'],\n",
        "    where=financial_data['Anomaly'],\n",
        "    color='red',\n",
        "    alpha=0.2,\n",
        "    label='Anomalies'\n",
        ")\n",
        "plt.title('Enhanced Investment Strategy Backtest')\n",
        "plt.xlabel('Date')\n",
        "plt.ylabel('Investment Value')\n",
        "plt.legend()\n",
        "plt.show()\n",
        "\n",
        "# Step 9: Generate a dynamic investment report\n",
        "final_investment_value = financial_data['Total_Investment_Value'].iloc[-1]\n",
        "max_investment_value = financial_data['Total_Investment_Value'].max()\n",
        "min_investment_value = financial_data['Total_Investment_Value'].min()\n",
        "best_period = financial_data.loc[financial_data['Total_Investment_Value'].idxmax()]['Date']\n",
        "worst_period = financial_data.loc[financial_data['Total_Investment_Value'].idxmin()]['Date']\n",
        "num_anomalies = financial_data['Anomaly'].sum()\n",
        "\n",
        "print(\"\\n--- Dynamic Investment Strategy Report ---\")\n",
        "print(f\"1. Final Investment Value: ${final_investment_value:.2f}\")\n",
        "print(f\"   - Reflects the dynamic adjustments based on market conditions and anomalies.\\n\")\n",
        "\n",
        "print(f\"2. Best Performance Period: {best_period} with value: ${max_investment_value:.2f}\")\n",
        "print(f\"   - Represents peak investment growth due to favorable market conditions.\\n\")\n",
        "\n",
        "print(f\"3. Worst Performance Period: {worst_period} with value: ${min_investment_value:.2f}\")\n",
        "print(f\"   - Indicates periods of market volatility or anomalies.\\n\")\n",
        "\n",
        "print(f\"4. Total Number of Anomalies Detected: {num_anomalies}\")\n",
        "if num_anomalies > 0:\n",
        "    print(f\"   - Indicates market instability, where the strategy shifted to safer assets.\\n\")\n",
        "else:\n",
        "    print(f\"   - No anomalies detected, suggesting stable market conditions.\\n\")\n",
        "\n",
        "print(\"5. Strategy Effectiveness:\")\n",
        "if num_anomalies == 0:\n",
        "    print(\"   - Market stability allowed for a focus on maximizing returns.\")\n",
        "else:\n",
        "    print(f\"   - Strategy successfully mitigated risks during {num_anomalies} anomalies.\\n\")\n",
        "\n",
        "print(\"6. Next Steps:\")\n",
        "print(\"   - Continue monitoring market conditions.\")\n",
        "print(\"   - Adjust allocations dynamically based on upcoming anomalies or stability.\")\n"
      ]
    },
    {
      "cell_type": "markdown",
      "metadata": {
        "id": "1VWqIOofQWNu"
      },
      "source": [
        "# **AI  Driven Bot**"
      ]
    },
    {
      "cell_type": "code",
      "execution_count": 18,
      "metadata": {
        "colab": {
          "base_uri": "https://localhost:8080/"
        },
        "id": "Q6TtmdqiRnzw",
        "outputId": "cdaa72a0-0170-4aec-f6e6-82b0856df3b4"
      },
      "outputs": [
        {
          "name": "stdout",
          "output_type": "stream",
          "text": [
            "Requirement already satisfied: streamlit in /usr/local/lib/python3.10/dist-packages (1.41.1)\n",
            "Requirement already satisfied: tensorflow in /usr/local/lib/python3.10/dist-packages (2.17.1)\n",
            "Requirement already satisfied: python-dotenv in /usr/local/lib/python3.10/dist-packages (1.0.1)\n",
            "Requirement already satisfied: google-generativeai in /usr/local/lib/python3.10/dist-packages (0.8.3)\n",
            "Requirement already satisfied: pandas in /usr/local/lib/python3.10/dist-packages (2.2.2)\n",
            "Requirement already satisfied: matplotlib in /usr/local/lib/python3.10/dist-packages (3.10.0)\n",
            "Requirement already satisfied: gemini-api in /usr/local/lib/python3.10/dist-packages (0.1.6)\n",
            "Requirement already satisfied: pyngrok in /usr/local/lib/python3.10/dist-packages (7.2.3)\n",
            "Requirement already satisfied: altair<6,>=4.0 in /usr/local/lib/python3.10/dist-packages (from streamlit) (5.5.0)\n",
            "Requirement already satisfied: blinker<2,>=1.0.0 in /usr/local/lib/python3.10/dist-packages (from streamlit) (1.9.0)\n",
            "Requirement already satisfied: cachetools<6,>=4.0 in /usr/local/lib/python3.10/dist-packages (from streamlit) (5.5.0)\n",
            "Requirement already satisfied: click<9,>=7.0 in /usr/local/lib/python3.10/dist-packages (from streamlit) (8.1.8)\n",
            "Requirement already satisfied: numpy<3,>=1.23 in /usr/local/lib/python3.10/dist-packages (from streamlit) (1.26.4)\n",
            "Requirement already satisfied: packaging<25,>=20 in /usr/local/lib/python3.10/dist-packages (from streamlit) (24.2)\n",
            "Requirement already satisfied: pillow<12,>=7.1.0 in /usr/local/lib/python3.10/dist-packages (from streamlit) (11.1.0)\n",
            "Requirement already satisfied: protobuf<6,>=3.20 in /usr/local/lib/python3.10/dist-packages (from streamlit) (4.25.5)\n",
            "Requirement already satisfied: pyarrow>=7.0 in /usr/local/lib/python3.10/dist-packages (from streamlit) (17.0.0)\n",
            "Requirement already satisfied: requests<3,>=2.27 in /usr/local/lib/python3.10/dist-packages (from streamlit) (2.32.3)\n",
            "Requirement already satisfied: rich<14,>=10.14.0 in /usr/local/lib/python3.10/dist-packages (from streamlit) (13.9.4)\n",
            "Requirement already satisfied: tenacity<10,>=8.1.0 in /usr/local/lib/python3.10/dist-packages (from streamlit) (9.0.0)\n",
            "Requirement already satisfied: toml<2,>=0.10.1 in /usr/local/lib/python3.10/dist-packages (from streamlit) (0.10.2)\n",
            "Requirement already satisfied: typing-extensions<5,>=4.3.0 in /usr/local/lib/python3.10/dist-packages (from streamlit) (4.12.2)\n",
            "Requirement already satisfied: watchdog<7,>=2.1.5 in /usr/local/lib/python3.10/dist-packages (from streamlit) (6.0.0)\n",
            "Requirement already satisfied: gitpython!=3.1.19,<4,>=3.0.7 in /usr/local/lib/python3.10/dist-packages (from streamlit) (3.1.44)\n",
            "Requirement already satisfied: pydeck<1,>=0.8.0b4 in /usr/local/lib/python3.10/dist-packages (from streamlit) (0.9.1)\n",
            "Requirement already satisfied: tornado<7,>=6.0.3 in /usr/local/lib/python3.10/dist-packages (from streamlit) (6.3.3)\n",
            "Requirement already satisfied: absl-py>=1.0.0 in /usr/local/lib/python3.10/dist-packages (from tensorflow) (1.4.0)\n",
            "Requirement already satisfied: astunparse>=1.6.0 in /usr/local/lib/python3.10/dist-packages (from tensorflow) (1.6.3)\n",
            "Requirement already satisfied: flatbuffers>=24.3.25 in /usr/local/lib/python3.10/dist-packages (from tensorflow) (24.12.23)\n",
            "Requirement already satisfied: gast!=0.5.0,!=0.5.1,!=0.5.2,>=0.2.1 in /usr/local/lib/python3.10/dist-packages (from tensorflow) (0.6.0)\n",
            "Requirement already satisfied: google-pasta>=0.1.1 in /usr/local/lib/python3.10/dist-packages (from tensorflow) (0.2.0)\n",
            "Requirement already satisfied: h5py>=3.10.0 in /usr/local/lib/python3.10/dist-packages (from tensorflow) (3.12.1)\n",
            "Requirement already satisfied: libclang>=13.0.0 in /usr/local/lib/python3.10/dist-packages (from tensorflow) (18.1.1)\n",
            "Requirement already satisfied: ml-dtypes<0.5.0,>=0.3.1 in /usr/local/lib/python3.10/dist-packages (from tensorflow) (0.4.1)\n",
            "Requirement already satisfied: opt-einsum>=2.3.2 in /usr/local/lib/python3.10/dist-packages (from tensorflow) (3.4.0)\n",
            "Requirement already satisfied: setuptools in /usr/local/lib/python3.10/dist-packages (from tensorflow) (75.1.0)\n",
            "Requirement already satisfied: six>=1.12.0 in /usr/local/lib/python3.10/dist-packages (from tensorflow) (1.17.0)\n",
            "Requirement already satisfied: termcolor>=1.1.0 in /usr/local/lib/python3.10/dist-packages (from tensorflow) (2.5.0)\n",
            "Requirement already satisfied: wrapt>=1.11.0 in /usr/local/lib/python3.10/dist-packages (from tensorflow) (1.17.0)\n",
            "Requirement already satisfied: grpcio<2.0,>=1.24.3 in /usr/local/lib/python3.10/dist-packages (from tensorflow) (1.69.0)\n",
            "Requirement already satisfied: tensorboard<2.18,>=2.17 in /usr/local/lib/python3.10/dist-packages (from tensorflow) (2.17.1)\n",
            "Requirement already satisfied: keras>=3.2.0 in /usr/local/lib/python3.10/dist-packages (from tensorflow) (3.5.0)\n",
            "Requirement already satisfied: tensorflow-io-gcs-filesystem>=0.23.1 in /usr/local/lib/python3.10/dist-packages (from tensorflow) (0.37.1)\n",
            "Requirement already satisfied: google-ai-generativelanguage==0.6.10 in /usr/local/lib/python3.10/dist-packages (from google-generativeai) (0.6.10)\n",
            "Requirement already satisfied: google-api-core in /usr/local/lib/python3.10/dist-packages (from google-generativeai) (2.19.2)\n",
            "Requirement already satisfied: google-api-python-client in /usr/local/lib/python3.10/dist-packages (from google-generativeai) (2.155.0)\n",
            "Requirement already satisfied: google-auth>=2.15.0 in /usr/local/lib/python3.10/dist-packages (from google-generativeai) (2.27.0)\n",
            "Requirement already satisfied: pydantic in /usr/local/lib/python3.10/dist-packages (from google-generativeai) (2.10.4)\n",
            "Requirement already satisfied: tqdm in /usr/local/lib/python3.10/dist-packages (from google-generativeai) (4.67.1)\n",
            "Requirement already satisfied: proto-plus<2.0.0dev,>=1.22.3 in /usr/local/lib/python3.10/dist-packages (from google-ai-generativelanguage==0.6.10->google-generativeai) (1.25.0)\n",
            "Requirement already satisfied: python-dateutil>=2.8.2 in /usr/local/lib/python3.10/dist-packages (from pandas) (2.8.2)\n",
            "Requirement already satisfied: pytz>=2020.1 in /usr/local/lib/python3.10/dist-packages (from pandas) (2024.2)\n",
            "Requirement already satisfied: tzdata>=2022.7 in /usr/local/lib/python3.10/dist-packages (from pandas) (2024.2)\n",
            "Requirement already satisfied: contourpy>=1.0.1 in /usr/local/lib/python3.10/dist-packages (from matplotlib) (1.3.1)\n",
            "Requirement already satisfied: cycler>=0.10 in /usr/local/lib/python3.10/dist-packages (from matplotlib) (0.12.1)\n",
            "Requirement already satisfied: fonttools>=4.22.0 in /usr/local/lib/python3.10/dist-packages (from matplotlib) (4.55.3)\n",
            "Requirement already satisfied: kiwisolver>=1.3.1 in /usr/local/lib/python3.10/dist-packages (from matplotlib) (1.4.8)\n",
            "Requirement already satisfied: pyparsing>=2.3.1 in /usr/local/lib/python3.10/dist-packages (from matplotlib) (3.2.1)\n",
            "Requirement already satisfied: PyYAML>=5.1 in /usr/local/lib/python3.10/dist-packages (from pyngrok) (6.0.2)\n",
            "Requirement already satisfied: jinja2 in /usr/local/lib/python3.10/dist-packages (from altair<6,>=4.0->streamlit) (3.1.5)\n",
            "Requirement already satisfied: jsonschema>=3.0 in /usr/local/lib/python3.10/dist-packages (from altair<6,>=4.0->streamlit) (4.23.0)\n",
            "Requirement already satisfied: narwhals>=1.14.2 in /usr/local/lib/python3.10/dist-packages (from altair<6,>=4.0->streamlit) (1.21.1)\n",
            "Requirement already satisfied: wheel<1.0,>=0.23.0 in /usr/local/lib/python3.10/dist-packages (from astunparse>=1.6.0->tensorflow) (0.45.1)\n",
            "Requirement already satisfied: gitdb<5,>=4.0.1 in /usr/local/lib/python3.10/dist-packages (from gitpython!=3.1.19,<4,>=3.0.7->streamlit) (4.0.12)\n",
            "Requirement already satisfied: googleapis-common-protos<2.0.dev0,>=1.56.2 in /usr/local/lib/python3.10/dist-packages (from google-api-core->google-generativeai) (1.66.0)\n",
            "Requirement already satisfied: pyasn1-modules>=0.2.1 in /usr/local/lib/python3.10/dist-packages (from google-auth>=2.15.0->google-generativeai) (0.4.1)\n",
            "Requirement already satisfied: rsa<5,>=3.1.4 in /usr/local/lib/python3.10/dist-packages (from google-auth>=2.15.0->google-generativeai) (4.9)\n",
            "Requirement already satisfied: namex in /usr/local/lib/python3.10/dist-packages (from keras>=3.2.0->tensorflow) (0.0.8)\n",
            "Requirement already satisfied: optree in /usr/local/lib/python3.10/dist-packages (from keras>=3.2.0->tensorflow) (0.13.1)\n",
            "Requirement already satisfied: charset-normalizer<4,>=2 in /usr/local/lib/python3.10/dist-packages (from requests<3,>=2.27->streamlit) (3.4.1)\n",
            "Requirement already satisfied: idna<4,>=2.5 in /usr/local/lib/python3.10/dist-packages (from requests<3,>=2.27->streamlit) (3.10)\n",
            "Requirement already satisfied: urllib3<3,>=1.21.1 in /usr/local/lib/python3.10/dist-packages (from requests<3,>=2.27->streamlit) (2.3.0)\n",
            "Requirement already satisfied: certifi>=2017.4.17 in /usr/local/lib/python3.10/dist-packages (from requests<3,>=2.27->streamlit) (2024.12.14)\n",
            "Requirement already satisfied: markdown-it-py>=2.2.0 in /usr/local/lib/python3.10/dist-packages (from rich<14,>=10.14.0->streamlit) (3.0.0)\n",
            "Requirement already satisfied: pygments<3.0.0,>=2.13.0 in /usr/local/lib/python3.10/dist-packages (from rich<14,>=10.14.0->streamlit) (2.18.0)\n",
            "Requirement already satisfied: markdown>=2.6.8 in /usr/local/lib/python3.10/dist-packages (from tensorboard<2.18,>=2.17->tensorflow) (3.7)\n",
            "Requirement already satisfied: tensorboard-data-server<0.8.0,>=0.7.0 in /usr/local/lib/python3.10/dist-packages (from tensorboard<2.18,>=2.17->tensorflow) (0.7.2)\n",
            "Requirement already satisfied: werkzeug>=1.0.1 in /usr/local/lib/python3.10/dist-packages (from tensorboard<2.18,>=2.17->tensorflow) (3.1.3)\n",
            "Requirement already satisfied: httplib2<1.dev0,>=0.19.0 in /usr/local/lib/python3.10/dist-packages (from google-api-python-client->google-generativeai) (0.22.0)\n",
            "Requirement already satisfied: google-auth-httplib2<1.0.0,>=0.2.0 in /usr/local/lib/python3.10/dist-packages (from google-api-python-client->google-generativeai) (0.2.0)\n",
            "Requirement already satisfied: uritemplate<5,>=3.0.1 in /usr/local/lib/python3.10/dist-packages (from google-api-python-client->google-generativeai) (4.1.1)\n",
            "Requirement already satisfied: annotated-types>=0.6.0 in /usr/local/lib/python3.10/dist-packages (from pydantic->google-generativeai) (0.7.0)\n",
            "Requirement already satisfied: pydantic-core==2.27.2 in /usr/local/lib/python3.10/dist-packages (from pydantic->google-generativeai) (2.27.2)\n",
            "Requirement already satisfied: smmap<6,>=3.0.1 in /usr/local/lib/python3.10/dist-packages (from gitdb<5,>=4.0.1->gitpython!=3.1.19,<4,>=3.0.7->streamlit) (5.0.2)\n",
            "Requirement already satisfied: grpcio-status<2.0.dev0,>=1.33.2 in /usr/local/lib/python3.10/dist-packages (from google-api-core[grpc]!=2.0.*,!=2.1.*,!=2.10.*,!=2.2.*,!=2.3.*,!=2.4.*,!=2.5.*,!=2.6.*,!=2.7.*,!=2.8.*,!=2.9.*,<3.0.0dev,>=1.34.1->google-ai-generativelanguage==0.6.10->google-generativeai) (1.62.3)\n",
            "Requirement already satisfied: MarkupSafe>=2.0 in /usr/local/lib/python3.10/dist-packages (from jinja2->altair<6,>=4.0->streamlit) (3.0.2)\n",
            "Requirement already satisfied: attrs>=22.2.0 in /usr/local/lib/python3.10/dist-packages (from jsonschema>=3.0->altair<6,>=4.0->streamlit) (24.3.0)\n",
            "Requirement already satisfied: jsonschema-specifications>=2023.03.6 in /usr/local/lib/python3.10/dist-packages (from jsonschema>=3.0->altair<6,>=4.0->streamlit) (2024.10.1)\n",
            "Requirement already satisfied: referencing>=0.28.4 in /usr/local/lib/python3.10/dist-packages (from jsonschema>=3.0->altair<6,>=4.0->streamlit) (0.35.1)\n",
            "Requirement already satisfied: rpds-py>=0.7.1 in /usr/local/lib/python3.10/dist-packages (from jsonschema>=3.0->altair<6,>=4.0->streamlit) (0.22.3)\n",
            "Requirement already satisfied: mdurl~=0.1 in /usr/local/lib/python3.10/dist-packages (from markdown-it-py>=2.2.0->rich<14,>=10.14.0->streamlit) (0.1.2)\n",
            "Requirement already satisfied: pyasn1<0.7.0,>=0.4.6 in /usr/local/lib/python3.10/dist-packages (from pyasn1-modules>=0.2.1->google-auth>=2.15.0->google-generativeai) (0.6.1)\n"
          ]
        }
      ],
      "source": [
        "!pip install streamlit tensorflow python-dotenv google-generativeai pandas matplotlib gemini-api pyngrok"
      ]
    },
    {
      "cell_type": "code",
      "execution_count": 19,
      "metadata": {
        "id": "bcqP3dIeSXlk"
      },
      "outputs": [],
      "source": [
        "from threading import Thread\n",
        "from pyngrok import ngrok\n",
        "from google.colab import userdata"
      ]
    },
    {
      "cell_type": "code",
      "execution_count": 20,
      "metadata": {
        "id": "KVXy51FYSagY"
      },
      "outputs": [],
      "source": [
        "ngrok_token = userdata.get('NGROK_AUTH_TOKEN')\n",
        "\n",
        "ngrok.set_auth_token(ngrok_token)"
      ]
    },
    {
      "cell_type": "code",
      "execution_count": 21,
      "metadata": {
        "id": "70saGwKZScZm"
      },
      "outputs": [],
      "source": [
        "def run_streamlit():\n",
        "  os.system(\"streamlit run /content/app.py --server.port 8501\")"
      ]
    },
    {
      "cell_type": "code",
      "execution_count": 69,
      "metadata": {
        "colab": {
          "base_uri": "https://localhost:8080/"
        },
        "id": "iVS-ylrISk4-",
        "outputId": "52b7499c-aae9-4f1f-da0b-57cccc2b02fd"
      },
      "outputs": [
        {
          "name": "stdout",
          "output_type": "stream",
          "text": [
            "Overwriting app.py\n"
          ]
        }
      ],
      "source": [
        "%%writefile app.py\n",
        "import streamlit as st\n",
        "import numpy as np\n",
        "import pandas as pd\n",
        "from keras.models import load_model\n",
        "from sklearn.preprocessing import StandardScaler\n",
        "import matplotlib.pyplot as plt\n",
        "import seaborn as sns\n",
        "import google.generativeai as genai\n",
        "import io\n",
        "import os\n",
        "\n",
        "api_key = os.getenv(\"GOOGLE_API_KEY\")\n",
        "genai.configure(api_key=api_key)\n",
        "\n",
        "# --- Page Configuration ---\n",
        "st.set_page_config(\n",
        "    page_title=\"AI Investment Strategy Planner\",\n",
        "    layout=\"wide\",\n",
        "    initial_sidebar_state=\"expanded\"\n",
        ")\n",
        "\n",
        "# --- Title ---\n",
        "st.title(\"💼 AI Investment Strategy Planner\")\n",
        "\n",
        "# --- Load Model ---\n",
        "@st.cache_resource\n",
        "def load_anomaly_detection_model():\n",
        "    return load_model('anomaly_detection_model.h5')\n",
        "\n",
        "model = load_anomaly_detection_model()\n",
        "\n",
        "# --- File Upload ---\n",
        "st.sidebar.header(\"📂 Upload Financial Data\")\n",
        "uploaded_file = st.sidebar.file_uploader(\n",
        "    \"Upload a CSV file with your financial data.\",\n",
        "    type=[\"csv\"]\n",
        ")\n",
        "\n",
        "if uploaded_file is not None:\n",
        "    # Load uploaded data\n",
        "    financial_data = pd.read_csv(uploaded_file)\n",
        "    st.sidebar.success(\"File uploaded successfully!\")\n",
        "else:\n",
        "    st.warning(\"Please upload a CSV file to proceed.\")\n",
        "    st.stop()\n",
        "\n",
        "# --- Preprocess Data ---\n",
        "features = ['XAU', 'BGNL', 'BDIY', 'CRY', 'DXY', 'VIX', 'USGG30YR']\n",
        "\n",
        "if not all(feature in financial_data.columns for feature in features):\n",
        "    st.error(f\"The uploaded file must contain the following columns: {', '.join(features)}\")\n",
        "    st.stop()\n",
        "\n",
        "scaler = StandardScaler()\n",
        "sample_data = financial_data[features].values\n",
        "sample_data_scaled = scaler.fit_transform(sample_data)\n",
        "\n",
        "# --- Predictions ---\n",
        "predictions = model.predict(sample_data_scaled).flatten()\n",
        "financial_data['Anomaly'] = predictions > 0.5\n",
        "\n",
        "# --- Investment Strategy ---\n",
        "initial_investment = 10000\n",
        "financial_data['Safe_Asset_Allocation'] = 0.7 * initial_investment\n",
        "financial_data['Risky_Asset_Allocation'] = 0.3 * initial_investment\n",
        "\n",
        "for i in range(1, len(financial_data)):\n",
        "    if financial_data.loc[i, 'Anomaly']:\n",
        "        financial_data.loc[i, 'Safe_Asset_Allocation'] = financial_data.loc[i - 1, 'Safe_Asset_Allocation'] * 1.005\n",
        "        financial_data.loc[i, 'Risky_Asset_Allocation'] = financial_data.loc[i - 1, 'Risky_Asset_Allocation'] * 0.98\n",
        "    else:\n",
        "        financial_data.loc[i, 'Safe_Asset_Allocation'] = financial_data.loc[i - 1, 'Safe_Asset_Allocation'] * 0.997\n",
        "        financial_data.loc[i, 'Risky_Asset_Allocation'] = financial_data.loc[i - 1, 'Risky_Asset_Allocation'] * 1.015\n",
        "\n",
        "financial_data['Total_Investment_Value'] = (\n",
        "    financial_data['Safe_Asset_Allocation'] + financial_data['Risky_Asset_Allocation']\n",
        ")\n",
        "\n",
        "# --- Report Generation ---\n",
        "final_investment_value = financial_data['Total_Investment_Value'].iloc[-1]\n",
        "max_investment_value = financial_data['Total_Investment_Value'].max()\n",
        "min_investment_value = financial_data['Total_Investment_Value'].min()\n",
        "best_period = financial_data.loc[financial_data['Total_Investment_Value'].idxmax()]['Date']\n",
        "worst_period = financial_data.loc[financial_data['Total_Investment_Value'].idxmin()]['Date']\n",
        "num_anomalies = financial_data['Anomaly'].sum()\n",
        "\n",
        "# --- Gemini Bot Sidebar ---\n",
        "st.sidebar.title(\"🤖Explanation Bot - Ask Me!\")\n",
        "user_question = st.sidebar.text_input(\"Type your question about the report:\")\n",
        "\n",
        "prompt = f\"\"\"\n",
        "Assume you are a financial analyst and given the following financial report:\n",
        "\n",
        "1. **Final Investment Value:** ${final_investment_value:,.2f}\n",
        "   - Reflects the dynamic adjustments based on market conditions and anomalies.\n",
        "\n",
        "2. **Best Performance Period:** {best_period} with value: ${max_investment_value:,.2f}\n",
        "   - Represents peak investment growth due to favorable market conditions.\n",
        "\n",
        "3. **Worst Performance Period:** {worst_period} with value: ${min_investment_value:,.2f}\n",
        "   - Indicates periods of market volatility or anomalies.\n",
        "\n",
        "4. **Total Number of Anomalies Detected:** {num_anomalies}\n",
        "   - Indicates market instability, where the strategy shifted to safer assets.\n",
        "\n",
        "5. **Strategy Effectiveness:**\n",
        "   - Strategy successfully mitigated risks during **{num_anomalies} anomalies**.\n",
        "\n",
        "6. **Next Steps:**\n",
        "   - Continue monitoring market conditions.\n",
        "   - Adjust allocations dynamically based on upcoming anomalies or stability.\n",
        "\n",
        "The user asks: \"{user_question}\"\n",
        "\n",
        "Give a concise and clear explanation based on the above report.\n",
        "\"\"\"\n",
        "\n",
        "if user_question:\n",
        "  model = genai.GenerativeModel(model_name=\"gemini-1.5-flash\")\n",
        "  response = model.generate_content([prompt], stream=False)\n",
        "  st.sidebar.markdown(f\"** Bot response:** {response.text}\")\n",
        "\n",
        "# --- Data Visualization ---\n",
        "st.subheader(\"📈 Investment Strategy Backtest\")\n",
        "fig, ax = plt.subplots(figsize=(12, 6))\n",
        "sns.lineplot(x=financial_data['Date'], y=financial_data['Total_Investment_Value'], ax=ax, label=\"Investment Value\")\n",
        "ax.fill_between(financial_data['Date'], financial_data['Total_Investment_Value'], where=financial_data['Anomaly'], color='red', alpha=0.2, label=\"Anomalies\")\n",
        "plt.title('Enhanced Investment Strategy Backtest')\n",
        "plt.xlabel('Date')\n",
        "plt.ylabel('Investment Value')\n",
        "plt.legend()\n",
        "st.pyplot(fig)\n",
        "\n",
        "# --- Dynamic Investment Strategy Report ---\n",
        "st.subheader(\"--- Dynamic Investment Strategy Report ---\")\n",
        "st.markdown(f\"\"\"\n",
        "1. **Final Investment Value:** ${final_investment_value:,.2f}\n",
        "   - Reflects the dynamic adjustments based on market conditions and anomalies.\n",
        "\n",
        "2. **Best Performance Period:** {best_period} with value: ${max_investment_value:,.2f}\n",
        "   - Represents peak investment growth due to favorable market conditions.\n",
        "\n",
        "3. **Worst Performance Period:** {worst_period} with value: ${min_investment_value:,.2f}\n",
        "   - Indicates periods of market volatility or anomalies.\n",
        "\n",
        "4. **Total Number of Anomalies Detected:** {num_anomalies}\n",
        "   - Indicates market instability, where the strategy shifted to safer assets.\n",
        "\n",
        "5. **Strategy Effectiveness:**\n",
        "   - Strategy successfully mitigated risks during **{num_anomalies} anomalies**.\n",
        "\n",
        "6. **Next Steps:**\n",
        "   - Continue monitoring market conditions.\n",
        "   - Adjust allocations dynamically based on upcoming anomalies or stability.\n",
        "\"\"\")\n",
        "\n",
        "# --- Download Results ---\n",
        "csv_buffer = io.StringIO()\n",
        "financial_data.to_csv(csv_buffer, index=False)\n",
        "csv_download = csv_buffer.getvalue()\n",
        "\n",
        "st.download_button(\n",
        "    label=\"📥 Download Strategy Results\",\n",
        "    data=csv_download,\n",
        "    file_name=\"investment_strategy_results.csv\",\n",
        "    mime=\"text/csv\"\n",
        ")\n",
        "\n",
        "\n",
        "# --- Footer ---\n",
        "st.markdown(\"---\")\n",
        "st.markdown(\"Developed by **Dawit Zewdu** 🚀\")\n"
      ]
    },
    {
      "cell_type": "code",
      "execution_count": 64,
      "metadata": {
        "id": "qddTkgKVV8Nb"
      },
      "outputs": [],
      "source": [
        "import os\n",
        "thread = Thread(target=run_streamlit)\n",
        "thread.start()"
      ]
    },
    {
      "cell_type": "code",
      "execution_count": 65,
      "metadata": {
        "colab": {
          "base_uri": "https://localhost:8080/"
        },
        "id": "MlPJB8uiV-Zs",
        "outputId": "d857bbad-40be-475e-d44a-68f8ccb76e64"
      },
      "outputs": [
        {
          "name": "stdout",
          "output_type": "stream",
          "text": [
            "Public URL: NgrokTunnel: \"https://37da-35-247-89-5.ngrok-free.app\" -> \"http://localhost:8501\"\n"
          ]
        }
      ],
      "source": [
        "public_url = ngrok.connect(addr='8501', proto='http', bind_tls=True)\n",
        "\n",
        "print(\"Public URL:\", public_url)"
      ]
    },
    {
      "cell_type": "code",
      "execution_count": 63,
      "metadata": {
        "colab": {
          "base_uri": "https://localhost:8080/"
        },
        "id": "PiNYuX3FWBsX",
        "outputId": "5b80174a-0fb6-4e24-8404-5e0b7c57221a"
      },
      "outputs": [
        {
          "name": "stderr",
          "output_type": "stream",
          "text": [
            "WARNING:pyngrok.process.ngrok:t=2025-01-12T15:39:05+0000 lvl=warn msg=\"Stopping forwarder\" name=http-8501-b9fb52c8-8a7a-4ab6-a651-8201f0ebddf7 acceptErr=\"failed to accept connection: Listener closed\"\n"
          ]
        },
        {
          "name": "stdout",
          "output_type": "stream",
          "text": [
            "Closing tunnel: https://b3f0-35-247-89-5.ngrok-free.app -> http://localhost:8501\n"
          ]
        }
      ],
      "source": [
        "# tunnels = ngrok.get_tunnels()\n",
        "# for tunnel in tunnels:\n",
        "#   print(f\"Closing tunnel: {tunnel.public_url} -> {tunnel.config['addr']}\")\n",
        "#   ngrok.disconnect(tunnel.public_url)"
      ]
    }
  ],
  "metadata": {
    "colab": {
      "provenance": []
    },
    "kernelspec": {
      "display_name": "Python 3",
      "name": "python3"
    },
    "language_info": {
      "name": "python"
    }
  },
  "nbformat": 4,
  "nbformat_minor": 0
}
